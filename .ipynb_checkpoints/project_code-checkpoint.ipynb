{
 "cells": [
  {
   "cell_type": "code",
   "execution_count": 1,
   "id": "03be8787-9d75-46ca-a959-28595bd7bf8a",
   "metadata": {},
   "outputs": [
    {
     "name": "stdout",
     "output_type": "stream",
     "text": [
      "food_category               category\n",
      "food_department             category\n",
      "food_family                 category\n",
      "store_sales(in millions)     float64\n",
      "store_cost(in millions)      float64\n",
      "unit_sales(in millions)      float64\n",
      "promotion_name              category\n",
      "sales_country               category\n",
      "marital_status              category\n",
      "gender                      category\n",
      "total_children               float64\n",
      "education                   category\n",
      "member_card                 category\n",
      "occupation                  category\n",
      "houseowner                  category\n",
      "avg_cars_at home(approx)     float64\n",
      "avg. yearly_income             int64\n",
      "num_children_at_home         float64\n",
      "avg_cars_at_home_1           float64\n",
      "brand_name                    object\n",
      "SRP                          float64\n",
      "gross_weight                 float64\n",
      "net_weight                   float64\n",
      "recyclable_package           float64\n",
      "low_fat                      float64\n",
      "units_per_case               float64\n",
      "store_type                  category\n",
      "store_city                  category\n",
      "store_state                 category\n",
      "store_sqft                   float64\n",
      "grocery_sqft                 float64\n",
      "frozen_sqft                  float64\n",
      "meat_sqft                    float64\n",
      "coffee_bar                   float64\n",
      "video_store                  float64\n",
      "salad_bar                    float64\n",
      "prepared_food                float64\n",
      "florist                      float64\n",
      "media_type                  category\n",
      "cost                         float64\n",
      "dtype: object\n"
     ]
    }
   ],
   "source": [
    "import pandas as pd\n",
    "\n",
    "file_path = 'python_project_dataset.csv'\n",
    "data = pd.read_csv(file_path)\n",
    "\n",
    "data = data.drop_duplicates()\n",
    "\n",
    "categorical_columns = ['food_category', 'food_department', 'food_family', 'promotion_name', \n",
    "                       'sales_country', 'marital_status', 'gender', 'education', 'member_card', \n",
    "                       'occupation', 'houseowner', 'store_type', 'store_city', 'store_state', 'media_type']\n",
    "data[categorical_columns] = data[categorical_columns].astype('category')\n",
    "\n",
    "data['avg. yearly_income'] = pd.to_numeric(data['avg. yearly_income'].str.replace('[^\\d.]', '', regex=True), errors='coerce')\n",
    "\n",
    "data = data.rename(columns={\"avg_cars_at home(approx).1\": \"avg_cars_at_home_1\"})\n",
    "\n",
    "print(data.dtypes)\n",
    "\n",
    "data.to_csv('cleaned_dataset.csv', index=False)"
   ]
  },
  {
   "cell_type": "code",
   "execution_count": 5,
   "id": "62deba9b-b298-46d0-9499-80bdab8715a7",
   "metadata": {},
   "outputs": [
    {
     "name": "stdout",
     "output_type": "stream",
     "text": [
      "Total records: 60428\n"
     ]
    }
   ],
   "source": [
    "# 1. What is the total number of records (rows) in the dataset?\n",
    "total_records = data.shape[0]\n",
    "print(f\"Total records: {total_records}\")"
   ]
  },
  {
   "cell_type": "code",
   "execution_count": 6,
   "id": "0ce6352b-fe47-45d8-a036-7ceaaff8e4f1",
   "metadata": {},
   "outputs": [
    {
     "name": "stdout",
     "output_type": "stream",
     "text": [
      "Unique promotions: ['Bag Stuffers', 'Cash Register Lottery', 'High Roller Savings', 'Double Down Sale', 'Green Light Days', ..., 'Best Savings', 'Pick Your Savings', 'Double Your Savings', 'Mystery Sale', 'Super Wallet Savers']\n",
      "Length: 49\n",
      "Categories (49, object): ['Bag Stuffers', 'Best Savings', 'Big Promo', 'Big Time Discounts', ..., 'Unbeatable Price Savers', 'Wallet Savers', 'Weekend Markdown', 'You Save Days']\n"
     ]
    }
   ],
   "source": [
    "# 2. What are the unique values for the 'promotion_name' column?\n",
    "unique_promotions = data['promotion_name'].unique()\n",
    "print(f\"Unique promotions: {unique_promotions}\")"
   ]
  },
  {
   "cell_type": "code",
   "execution_count": 7,
   "id": "aef449bd-f1b7-474d-b448-22e1a31b1483",
   "metadata": {},
   "outputs": [
    {
     "name": "stdout",
     "output_type": "stream",
     "text": [
      "Store sales statistics: count    60428.000000\n",
      "mean         6.541031\n",
      "std          3.463047\n",
      "min          0.510000\n",
      "25%          3.810000\n",
      "50%          5.940000\n",
      "75%          8.670000\n",
      "max         22.920000\n",
      "Name: store_sales(in millions), dtype: float64\n"
     ]
    }
   ],
   "source": [
    "# 3. Can you provide summary statistics for the 'store_sales' column, such as mean, median, and standard deviation?\n",
    "store_sales_stats = data['store_sales(in millions)'].describe()\n",
    "print(f\"Store sales statistics: {store_sales_stats}\")"
   ]
  },
  {
   "cell_type": "code",
   "execution_count": 8,
   "id": "ffe94c11-cc73-4324-b329-a6553f42247c",
   "metadata": {},
   "outputs": [
    {
     "name": "stdout",
     "output_type": "stream",
     "text": [
      "Number of unique sales countries: 3, Countries: ['USA', 'Mexico', 'Canada']\n",
      "Categories (3, object): ['Canada', 'Mexico', 'USA']\n"
     ]
    }
   ],
   "source": [
    "# 4. How many unique values are there in the 'sales_country' column, and what are they?\n",
    "unique_sales_countries = data['sales_country'].nunique()\n",
    "sales_countries = data['sales_country'].unique()\n",
    "\n",
    "# Print the number of unique sales countries and the list of those countries\n",
    "print(f\"Number of unique sales countries: {unique_sales_countries}, Countries: {sales_countries}\")"
   ]
  },
  {
   "cell_type": "code",
   "execution_count": 9,
   "id": "1f983148-6dfd-42a0-baa9-43cca12ee1e5",
   "metadata": {},
   "outputs": [
    {
     "name": "stdout",
     "output_type": "stream",
     "text": [
      "Most common gender: F\n"
     ]
    }
   ],
   "source": [
    "# 5. What is the most common 'gender' in the dataset?\n",
    "most_common_gender = data['gender'].mode()[0]\n",
    "print(f\"Most common gender: {most_common_gender}\")"
   ]
  },
  {
   "cell_type": "code",
   "execution_count": 10,
   "id": "69a458cc-317b-4b19-89b2-55c96a7aea3f",
   "metadata": {},
   "outputs": [
    {
     "name": "stdout",
     "output_type": "stream",
     "text": [
      "Average unit sales: 3.0931687297279407\n"
     ]
    }
   ],
   "source": [
    "# 6. What is the average 'unit_sales' for all records in the dataset?\n",
    "average_unit_sales = data['unit_sales(in millions)'].mean()\n",
    "print(f\"Average unit sales: {average_unit_sales}\")"
   ]
  },
  {
   "cell_type": "code",
   "execution_count": 11,
   "id": "bb6354f2-9737-45b5-b095-41cd5a3daa47",
   "metadata": {},
   "outputs": [
    {
     "name": "stdout",
     "output_type": "stream",
     "text": [
      "Store types present: ['Deluxe Supermarket', 'Supermarket', 'Gourmet Supermarket', 'Small Grocery', 'Mid-Size Grocery']\n"
     ]
    }
   ],
   "source": [
    "# 7. How many different 'store_types' are present, and what are they?\n",
    "store_types = data['store_type'].unique()\n",
    "print(f\"Store types present: {list(store_types)}\")"
   ]
  },
  {
   "cell_type": "code",
   "execution_count": 12,
   "id": "3120cfe9-283f-4623-a18b-c85860b4b5b3",
   "metadata": {},
   "outputs": [
    {
     "name": "stdout",
     "output_type": "stream",
     "text": [
      "Marital status distribution: marital_status\n",
      "S    0.502333\n",
      "M    0.497667\n",
      "Name: proportion, dtype: float64\n"
     ]
    }
   ],
   "source": [
    "# 8. What is the distribution of 'marital_status' in the dataset?\n",
    "marital_status_distribution = data['marital_status'].value_counts(normalize=True)\n",
    "print(f\"Marital status distribution: {marital_status_distribution}\")"
   ]
  },
  {
   "cell_type": "code",
   "execution_count": 13,
   "id": "69308233-503d-419b-b93d-25fe587eb339",
   "metadata": {},
   "outputs": [
    {
     "name": "stdout",
     "output_type": "stream",
     "text": [
      "Missing values in each column: food_category               0\n",
      "food_department             0\n",
      "food_family                 0\n",
      "store_sales(in millions)    0\n",
      "store_cost(in millions)     0\n",
      "unit_sales(in millions)     0\n",
      "promotion_name              0\n",
      "sales_country               0\n",
      "marital_status              0\n",
      "gender                      0\n",
      "total_children              0\n",
      "education                   0\n",
      "member_card                 0\n",
      "occupation                  0\n",
      "houseowner                  0\n",
      "avg_cars_at home(approx)    0\n",
      "avg. yearly_income          0\n",
      "num_children_at_home        0\n",
      "avg_cars_at_home_1          0\n",
      "brand_name                  0\n",
      "SRP                         0\n",
      "gross_weight                0\n",
      "net_weight                  0\n",
      "recyclable_package          0\n",
      "low_fat                     0\n",
      "units_per_case              0\n",
      "store_type                  0\n",
      "store_city                  0\n",
      "store_state                 0\n",
      "store_sqft                  0\n",
      "grocery_sqft                0\n",
      "frozen_sqft                 0\n",
      "meat_sqft                   0\n",
      "coffee_bar                  0\n",
      "video_store                 0\n",
      "salad_bar                   0\n",
      "prepared_food               0\n",
      "florist                     0\n",
      "media_type                  0\n",
      "cost                        0\n",
      "dtype: int64\n"
     ]
    }
   ],
   "source": [
    "# 9. Are there any missing values in the dataset, and if so, in which columns?\n",
    "missing_values = data.isnull().sum()\n",
    "print(f\"Missing values in each column: {missing_values}\")"
   ]
  },
  {
   "cell_type": "code",
   "execution_count": 14,
   "id": "f4b2911d-9a54-4e43-84f6-65a7a083846f",
   "metadata": {},
   "outputs": [
    {
     "name": "stdout",
     "output_type": "stream",
     "text": [
      "Income range: 130000\n"
     ]
    }
   ],
   "source": [
    "# 10. What is the range of 'avg_yearly_income' values in the dataset?\n",
    "income_range = data['avg. yearly_income'].max() - data['avg. yearly_income'].min()\n",
    "print(f\"Income range: {income_range}\")"
   ]
  },
  {
   "cell_type": "code",
   "execution_count": 15,
   "id": "4b9cac31-9b11-42e6-b0bc-72ccc02426fe",
   "metadata": {},
   "outputs": [
    {
     "name": "stdout",
     "output_type": "stream",
     "text": [
      "Number of unique brand names: 111\n",
      "Brand names: ['Carrington' 'Golden' 'Imagine' 'Big Time' 'PigTail' 'Fantastic' 'Great'\n",
      " 'Sphinx' 'Modell' 'Colony' 'Blue Label' 'Pleasant' 'Bravo' 'Better'\n",
      " 'Just Right' 'Plato' 'BBB Best' 'Landslide' 'Super' 'CDR' 'High Top'\n",
      " 'Tri-State' 'Hermanos' 'Tell Tale' 'Ebony' 'Thresher' 'Gulf Coast'\n",
      " 'Musial' 'Atomic' 'Choice' 'Fort West' 'Nationeel' 'Horatio'\n",
      " 'Best Choice' 'Fast' 'Gorilla' 'Carlson' 'Even Better' 'Club' 'Booker'\n",
      " 'Shady Lake' 'Monarch' 'Discover' 'Colossal' 'Medalist' 'Jardon'\n",
      " 'Cormorant' 'Sunset' 'Red Wing' 'High Quality' 'Denny' 'Faux Products'\n",
      " 'Steady' 'Consolidated' 'Bird Call' 'Hilltop' 'Ship Shape' 'Footnote'\n",
      " 'Genteel' 'Quick' 'Gerolli' 'Excellent' 'Fabulous' 'Token' 'Skinner'\n",
      " 'Washington' 'Dual City' 'Kiwi' 'Tip Top' 'Amigo' 'Curlew' 'Moms'\n",
      " 'Cutting Edge' 'Red Spade' 'Lake' 'American' 'Walrus' 'Pearl' 'Good'\n",
      " 'Top Measure' 'Portsmouth' 'Toucan' 'Applause' 'Swell' 'Green Ribbon'\n",
      " 'Big City' 'National' 'Blue Medal' 'Urban' 'Jumbo' 'Giant' 'Dollar'\n",
      " 'Mighty Good' 'Robust' 'Gauss' 'Excel' 'Radius' 'Best' 'Jeffers'\n",
      " 'Johnson' 'Special' 'Akron' 'Framton' 'Black Tie' 'Queen' 'James Bay'\n",
      " 'Toretti' 'Prelude' 'Symphony' 'ADJ' 'King']\n"
     ]
    }
   ],
   "source": [
    "# 11. How many unique 'brand_name' values are there, and what are they?\n",
    "unique_brand_names = data['brand_name'].nunique()\n",
    "brand_name_list = data['brand_name'].unique()\n",
    "print(f\"Number of unique brand names: {unique_brand_names}\")\n",
    "print(f\"Brand names: {brand_name_list}\")"
   ]
  },
  {
   "cell_type": "code",
   "execution_count": 16,
   "id": "59810721-7428-4e01-b20a-50374ddff056",
   "metadata": {},
   "outputs": [
    {
     "name": "stdout",
     "output_type": "stream",
     "text": [
      "Most common education level: Partial High School\n"
     ]
    }
   ],
   "source": [
    "# 12. What is the most common 'education' level among customers in the dataset?\n",
    "most_common_education = data['education'].mode()[0]\n",
    "print(f\"Most common education level: {most_common_education}\")"
   ]
  },
  {
   "cell_type": "code",
   "execution_count": 17,
   "id": "e9a2aa56-88e2-463c-b009-7b8740cacbb6",
   "metadata": {},
   "outputs": [
    {
     "name": "stdout",
     "output_type": "stream",
     "text": [
      "Proportion of houseowners: houseowner\n",
      "Y    0.60419\n",
      "N    0.39581\n",
      "Name: proportion, dtype: float64\n"
     ]
    }
   ],
   "source": [
    "# 13. What is the proportion of 'houseowners' in the dataset?\n",
    "houseowner_proportion = data['houseowner'].value_counts(normalize=True)\n",
    "print(f\"Proportion of houseowners: {houseowner_proportion}\")"
   ]
  },
  {
   "cell_type": "code",
   "execution_count": 18,
   "id": "90ef0161-7769-4e94-8d06-3cd25ed4471e",
   "metadata": {},
   "outputs": [
    {
     "name": "stdout",
     "output_type": "stream",
     "text": [
      "Correlation between store sales and average cars at home: 0.00449763730707667\n"
     ]
    }
   ],
   "source": [
    "14. Can you identify any correlations between numerical columns, such as 'store_sales' and 'avg_cars_at_home'?\n",
    "correlation_sales_cars = data[['store_sales(in millions)', 'avg_cars_at home(approx)']].corr().iloc[0, 1]\n",
    "print(f\"Correlation between store sales and average cars at home: {correlation_sales_cars}\")"
   ]
  },
  {
   "cell_type": "code",
   "execution_count": 19,
   "id": "446fa01a-f008-4310-a2b1-ec80f6444c15",
   "metadata": {},
   "outputs": [
    {
     "name": "stdout",
     "output_type": "stream",
     "text": [
      "Average cost by media type: media_type\n",
      "Bulk Mail                  104.087744\n",
      "Cash Register Handout      114.935647\n",
      "Daily Paper                 89.223149\n",
      "Daily Paper, Radio          97.971450\n",
      "Daily Paper, Radio, TV      90.753003\n",
      "In-Store Coupon             99.993493\n",
      "Product Attachment         104.336822\n",
      "Radio                       96.703759\n",
      "Street Handout             108.685326\n",
      "Sunday Paper               101.230712\n",
      "Sunday Paper, Radio        105.687131\n",
      "Sunday Paper, Radio, TV     90.965377\n",
      "TV                          85.941692\n",
      "Name: cost, dtype: float64\n"
     ]
    }
   ],
   "source": [
    "# 15. What is the average 'cost' for the different 'media_type' values?\n",
    "average_cost_by_media_type = data.groupby('media_type', observed=True)['cost'].mean()\n",
    "print(f\"Average cost by media type: {average_cost_by_media_type}\")"
   ]
  },
  {
   "cell_type": "code",
   "execution_count": 20,
   "id": "5bd61a29-428f-444a-be78-6e192775ffed",
   "metadata": {},
   "outputs": [
    {
     "name": "stdout",
     "output_type": "stream",
     "text": [
      "Low fat product count: 21176.0\n"
     ]
    }
   ],
   "source": [
    "# 16. How many records have 'low_fat' products, and how many have 'recyclable_package' products?\n",
    "low_fat_count = data['low_fat'].sum()\n",
    "print(f\"Low fat product count: {low_fat_count}\")"
   ]
  },
  {
   "cell_type": "code",
   "execution_count": 21,
   "id": "ba0119c2-2820-42e4-a145-14c6f2d4c95d",
   "metadata": {},
   "outputs": [
    {
     "name": "stdout",
     "output_type": "stream",
     "text": [
      "Recyclable package count: 33759.0\n",
      "Average net weight for recyclable packaged products: 12.023464557599452\n",
      "Average net weight for non-recyclable packaged products: 11.508718737110504\n"
     ]
    }
   ],
   "source": [
    "# 17. What is the average 'net_weight' for products with and without a 'recyclable_package'?\n",
    "recyclable_package_count = data['recyclable_package'].sum()\n",
    "average_net_weight_recyclable = data[data['recyclable_package'] == 1]['net_weight'].mean()\n",
    "average_net_weight_non_recyclable = data[data['recyclable_package'] == 0]['net_weight'].mean()\n",
    "print(f\"Recyclable package count: {recyclable_package_count}\")\n",
    "print(f\"Average net weight for recyclable packaged products: {average_net_weight_recyclable}\")\n",
    "print(f\"Average net weight for non-recyclable packaged products: {average_net_weight_non_recyclable}\")"
   ]
  },
  {
   "cell_type": "code",
   "execution_count": 22,
   "id": "ea632bf3-2cc2-4555-90b6-4251ef8bc448",
   "metadata": {},
   "outputs": [
    {
     "name": "stdout",
     "output_type": "stream",
     "text": [
      "Store sales by food department: food_department\n",
      "Alcoholic Beverages    6.350069\n",
      "Baked Goods            6.573762\n",
      "Baking Goods           5.940487\n",
      "Beverages              6.305043\n",
      "Breakfast Foods        6.490437\n",
      "Canned Foods           6.391185\n",
      "Canned Products        5.679700\n",
      "Carousel               5.781600\n",
      "Checkout               6.545143\n",
      "Dairy                  6.702824\n",
      "Deli                   6.483071\n",
      "Eggs                   6.721239\n",
      "Frozen Foods           6.375304\n",
      "Health and Hygiene     6.267568\n",
      "Household              6.884327\n",
      "Meat                   6.459377\n",
      "Periodicals            6.392925\n",
      "Produce                6.679331\n",
      "Seafood                6.587787\n",
      "Snack Foods            6.897956\n",
      "Snacks                 6.594259\n",
      "Starchy Foods          7.062611\n",
      "Name: store_sales(in millions), dtype: float64\n"
     ]
    }
   ],
   "source": [
    "# 18. How does the 'store_sales' vary across different 'food_departments'?\n",
    "sales_by_food_department = data.groupby('food_department', observed=True)['store_sales(in millions)'].mean()\n",
    "print(f\"Store sales by food department: {sales_by_food_department}\")"
   ]
  },
  {
   "cell_type": "code",
   "execution_count": 23,
   "id": "9902bc0a-ff7a-4428-a777-e949fa92e715",
   "metadata": {},
   "outputs": [
    {
     "name": "stdout",
     "output_type": "stream",
     "text": [
      "Total store sales by city: store_city\n",
      "Acapulco         10047.59\n",
      "Bellingham        2466.29\n",
      "Beverly Hills    27485.61\n",
      "Bremerton        23060.10\n",
      "Camacho          15489.19\n",
      "Guadalajara       1390.94\n",
      "Hidalgo          31714.62\n",
      "Los Angeles      26422.87\n",
      "Merida           30318.51\n",
      "Mexico City       9307.09\n",
      "Orizaba          17297.16\n",
      "Portland         34675.61\n",
      "Salem            35764.51\n",
      "San Francisco     2636.73\n",
      "Seattle          33538.31\n",
      "Spokane          29483.11\n",
      "Tacoma           37886.08\n",
      "Vancouver        22427.00\n",
      "Victoria          3850.08\n",
      "Name: store_sales(in millions), dtype: float64\n"
     ]
    }
   ],
   "source": [
    "# 19. What is the total 'store_sales' for each 'store_city'?\n",
    "total_sales_by_city = data.groupby('store_city', observed=True)['store_sales(in millions)'].sum()\n",
    "print(f\"Total store sales by city: {total_sales_by_city}\")"
   ]
  },
  {
   "cell_type": "code",
   "execution_count": 24,
   "id": "76090994-c36c-4bbe-92b9-55ffe91c27c8",
   "metadata": {},
   "outputs": [
    {
     "name": "stdout",
     "output_type": "stream",
     "text": [
      "No time dimension ('date' column) is available in the dataset.\n"
     ]
    }
   ],
   "source": [
    "# 20. Can you identify any patterns or trends in 'unit_sales' over time (if a time dimension is present in the data)?\n",
    "import pandas as pd\n",
    "import matplotlib.pyplot as plt\n",
    "\n",
    "data = pd.read_csv('cleaned_dataset.csv')\n",
    "\n",
    "if 'date' in data.columns:\n",
    "    data['date'] = pd.to_datetime(data['date'])\n",
    "    \n",
    "    unit_sales_over_time = data.groupby('date')['unit_sales(in millions)'].sum()\n",
    "\n",
    "    plt.figure(figsize=(12, 6))\n",
    "    plt.plot(unit_sales_over_time.index, unit_sales_over_time.values)\n",
    "    plt.title('Trends in Unit Sales')\n",
    "    plt.xlabel('Date')\n",
    "    plt.ylabel('Unit Sales (in millions)')\n",
    "    plt.grid(True)\n",
    "    plt.show()\n",
    "else:\n",
    "    print(\"No time dimension ('date' column) is available in the dataset.\")\n"
   ]
  },
  {
   "cell_type": "code",
   "execution_count": 25,
   "id": "68f6c42f-230c-4aa4-bafa-ecbf5d818c7e",
   "metadata": {},
   "outputs": [
    {
     "name": "stdout",
     "output_type": "stream",
     "text": [
      "Average unit sales by food department: food_department\n",
      "Alcoholic Beverages    3.113836\n",
      "Baked Goods            3.089594\n",
      "Baking Goods           3.083834\n",
      "Beverages              3.093563\n",
      "Breakfast Foods        3.104113\n",
      "Canned Foods           3.086126\n",
      "Canned Products        3.107500\n",
      "Carousel               3.097778\n",
      "Checkout               3.129870\n",
      "Dairy                  3.083442\n",
      "Deli                   3.099390\n",
      "Eggs                   3.073529\n",
      "Frozen Foods           3.086680\n",
      "Health and Hygiene     3.090885\n",
      "Household              3.086338\n",
      "Meat                   3.114286\n",
      "Periodicals            3.044284\n",
      "Produce                3.093651\n",
      "Seafood                3.104000\n",
      "Snack Foods            3.106085\n",
      "Snacks                 3.135241\n",
      "Starchy Foods          3.112421\n",
      "Name: unit_sales(in millions), dtype: float64\n"
     ]
    }
   ],
   "source": [
    "# 21. What is the average unit_sales for different food_categories or food_departments?\n",
    "food_department_sales = data.groupby('food_department', observed=True)['unit_sales(in millions)'].mean()\n",
    "print(f\"Average unit sales by food department: {food_department_sales}\")"
   ]
  },
  {
   "cell_type": "code",
   "execution_count": 26,
   "id": "3ffee80b-b513-4e2f-8466-a839319d9872",
   "metadata": {},
   "outputs": [
    {
     "name": "stdout",
     "output_type": "stream",
     "text": [
      "Correlation between promotion costs and store sales: promotion_name\n",
      "Bag Stuffers              -0.089995\n",
      "Best Savings              -0.106996\n",
      "Big Promo                  0.027614\n",
      "Big Time Discounts         0.016124\n",
      "Big Time Savings           0.046017\n",
      "Bye Bye Baby               0.036360\n",
      "Cash Register Lottery      0.000974\n",
      "Coupon Spectacular        -0.032029\n",
      "Dimes Off                  0.050567\n",
      "Dollar Cutters             0.059884\n",
      "Dollar Days                0.043478\n",
      "Double Down Sale          -0.008073\n",
      "Double Your Savings       -0.286760\n",
      "Fantastic Discounts        0.264675\n",
      "Free For All               0.039862\n",
      "Go For It                  0.050747\n",
      "Green Light Days           0.005390\n",
      "Green Light Special        0.001476\n",
      "High Roller Savings        0.009132\n",
      "I Cant Believe It Sale    -0.017497\n",
      "Money Savers              -0.066813\n",
      "Mystery Sale              -0.077868\n",
      "One Day Sale              -0.030722\n",
      "Pick Your Savings          0.004102\n",
      "Price Cutters              0.059487\n",
      "Price Destroyers           0.026550\n",
      "Price Savers               0.006756\n",
      "Price Slashers            -0.052362\n",
      "Price Smashers            -0.049522\n",
      "Price Winners             -0.023798\n",
      "Sale Winners               0.064889\n",
      "Sales Days                -0.038112\n",
      "Sales Galore               0.059016\n",
      "Save-It Sale               0.037700\n",
      "Saving Days                0.013843\n",
      "Savings Galore             0.071433\n",
      "Shelf Clearing Days       -0.023162\n",
      "Shelf Emptiers            -0.051309\n",
      "Super Duper Savers        -0.013629\n",
      "Super Savers              -0.016470\n",
      "Super Wallet Savers        0.084643\n",
      "Three for One             -0.043836\n",
      "Tip Top Savings           -0.014006\n",
      "Two Day Sale              -0.003932\n",
      "Two for One               -0.081270\n",
      "Unbeatable Price Savers    0.014203\n",
      "Wallet Savers             -0.162573\n",
      "Weekend Markdown           0.017272\n",
      "You Save Days              0.064760\n",
      "Name: store_sales(in millions), dtype: float64\n"
     ]
    }
   ],
   "source": [
    "# 22. How does the promotional cost (cost associated with promotions) relate to the increase in store_sales?\n",
    "promotion_cost_relation = data[['promotion_name', 'cost', 'store_sales(in millions)']].groupby('promotion_name').corr().unstack()['cost']['store_sales(in millions)']\n",
    "print(f\"Correlation between promotion costs and store sales: {promotion_cost_relation}\")"
   ]
  },
  {
   "cell_type": "code",
   "execution_count": 27,
   "id": "d53c644a-dbb2-4048-ab6a-7d669c8ac5b8",
   "metadata": {},
   "outputs": [
    {
     "name": "stdout",
     "output_type": "stream",
     "text": [
      "Average store sales by coffee bar presence: coffee_bar\n",
      "0.0    6.668933\n",
      "1.0    6.460163\n",
      "Name: store_sales(in millions), dtype: float64\n",
      "Average store sales by salad bar presence: salad_bar\n",
      "0.0    6.410892\n",
      "1.0    6.632233\n",
      "Name: store_sales(in millions), dtype: float64\n"
     ]
    }
   ],
   "source": [
    "# 23. Is there a difference in store_sales based on the presence of a coffee_bar or salad_bar in the store?\n",
    "groups_coffee = data.groupby('coffee_bar')['store_sales(in millions)'].mean()\n",
    "groups_salad = data.groupby('salad_bar')['store_sales(in millions)'].mean()\n",
    "print(\"Average store sales by coffee bar presence:\", groups_coffee)\n",
    "print(\"Average store sales by salad bar presence:\", groups_salad)"
   ]
  },
  {
   "cell_type": "code",
   "execution_count": 28,
   "id": "803e40c2-9533-4529-bbec-d1f53fc1ca68",
   "metadata": {},
   "outputs": [
    {
     "name": "stdout",
     "output_type": "stream",
     "text": [
      "Correlation between store sales and units per case: -0.010630043340679404\n"
     ]
    }
   ],
   "source": [
    "# 24. What is the correlation between store_sales and the number of units_per_case?\n",
    "correlation_units_case = data['store_sales(in millions)'].corr(data['units_per_case'])\n",
    "print(\"Correlation between store sales and units per case:\", correlation_units_case)"
   ]
  },
  {
   "cell_type": "code",
   "execution_count": 29,
   "id": "11a2ce57-c9f5-4488-8a40-0803d01730e0",
   "metadata": {},
   "outputs": [
    {
     "name": "stdout",
     "output_type": "stream",
     "text": [
      "Average store sales by city: store_city\n",
      "Acapulco         6.671707\n",
      "Bellingham       3.468762\n",
      "Beverly Hills    6.621443\n",
      "Bremerton        6.682150\n",
      "Camacho          6.585540\n",
      "Guadalajara      3.168428\n",
      "Hidalgo          6.661336\n",
      "Los Angeles      6.672442\n",
      "Merida           6.740442\n",
      "Mexico City      6.671749\n",
      "Orizaba          6.599451\n",
      "Portland         6.733128\n",
      "Salem            6.528753\n",
      "San Francisco    3.367471\n",
      "Seattle          6.639935\n",
      "Spokane          6.620954\n",
      "Tacoma           6.642020\n",
      "Vancouver        6.627364\n",
      "Victoria         6.638069\n",
      "Name: store_sales(in millions), dtype: float64\n",
      "Average store sales by state: store_state\n",
      "BC           6.628930\n",
      "CA           6.357680\n",
      "DF           6.671749\n",
      "Guerrero     6.671707\n",
      "Jalisco      3.168428\n",
      "OR           6.627787\n",
      "Veracruz     6.599451\n",
      "WA           6.527305\n",
      "Yucatan      6.740442\n",
      "Zacatecas    6.636273\n",
      "Name: store_sales(in millions), dtype: float64\n"
     ]
    }
   ],
   "source": [
    "# 25. How do store_sales vary across different store_cities or store_states?\n",
    "city_sales = data.groupby('store_city')['store_sales(in millions)'].mean()\n",
    "state_sales = data.groupby('store_state')['store_sales(in millions)'].mean()\n",
    "print(\"Average store sales by city:\", city_sales)\n",
    "print(\"Average store sales by state:\", state_sales)"
   ]
  },
  {
   "cell_type": "code",
   "execution_count": 30,
   "id": "996fc8c9-d416-4df6-a595-afe1babdf237",
   "metadata": {},
   "outputs": [
    {
     "name": "stdout",
     "output_type": "stream",
     "text": [
      "Correlation between total children and unit sales: 0.16318827678083944\n"
     ]
    }
   ],
   "source": [
    "# 26. Is there a correlation between the number of total_children and unit_sales?\n",
    "correlation_children_sales = data['total_children'].corr(data['unit_sales(in millions)'])\n",
    "print(\"Correlation between total children and unit sales:\", correlation_children_sales)"
   ]
  },
  {
   "cell_type": "code",
   "execution_count": 31,
   "id": "5ebaabe4-8659-4702-817c-05addeb3691c",
   "metadata": {},
   "outputs": [
    {
     "name": "stdout",
     "output_type": "stream",
     "text": [
      "Store sales with and without a video store section: video_store\n",
      "0.0    6.491847\n",
      "1.0    6.630721\n",
      "Name: store_sales(in millions), dtype: float64\n"
     ]
    }
   ],
   "source": [
    "# 27. Do stores with a video_store section have higher store_sales compared to those without?\n",
    "video_store_sales = data.groupby('video_store')['store_sales(in millions)'].mean()\n",
    "print(\"Store sales with and without a video store section:\", video_store_sales)"
   ]
  },
  {
   "cell_type": "code",
   "execution_count": 32,
   "id": "707c479d-a462-4548-8dc8-67c64167e6cb",
   "metadata": {},
   "outputs": [
    {
     "name": "stdout",
     "output_type": "stream",
     "text": [
      "Average store sales by levels of frozen square footage: frozen_sqft\n",
      "(2445.268, 4696.0]    6.331570\n",
      "(4696.0, 6940.0]      6.591428\n",
      "(6940.0, 9184.0]      6.659078\n",
      "Name: store_sales(in millions), dtype: float64\n"
     ]
    }
   ],
   "source": [
    "# 28. What is the average store_sales for different levels of frozen_sqft (frozen section size)?\n",
    "frozen_sales = data.groupby(pd.cut(data['frozen_sqft'], bins=3), observed=True)['store_sales(in millions)'].mean()\n",
    "print(\"Average store sales by levels of frozen square footage:\", frozen_sales)"
   ]
  },
  {
   "cell_type": "code",
   "execution_count": 33,
   "id": "6151c56d-08c8-489f-a648-67b095ccc329",
   "metadata": {},
   "outputs": [
    {
     "name": "stdout",
     "output_type": "stream",
     "text": [
      "Impact of having a florist on store sales: florist\n",
      "0.0    6.420836\n",
      "1.0    6.634476\n",
      "Name: store_sales(in millions), dtype: float64\n"
     ]
    }
   ],
   "source": [
    "# 29. How does the presence of a florist in the store impact store_sales?\n",
    "florist_sales = data.groupby('florist')['store_sales(in millions)'].mean()\n",
    "print(\"Impact of having a florist on store sales:\", florist_sales)"
   ]
  },
  {
   "cell_type": "code",
   "execution_count": 34,
   "id": "4767d0c2-4610-42e3-90fb-a10b8ac0a630",
   "metadata": {},
   "outputs": [
    {
     "name": "stdout",
     "output_type": "stream",
     "text": [
      "Average cost by media type: media_type\n",
      "Bulk Mail                  104.087744\n",
      "Cash Register Handout      114.935647\n",
      "Daily Paper                 89.223149\n",
      "Daily Paper, Radio          97.971450\n",
      "Daily Paper, Radio, TV      90.753003\n",
      "In-Store Coupon             99.993493\n",
      "Product Attachment         104.336822\n",
      "Radio                       96.703759\n",
      "Street Handout             108.685326\n",
      "Sunday Paper               101.230712\n",
      "Sunday Paper, Radio        105.687131\n",
      "Sunday Paper, Radio, TV     90.965377\n",
      "TV                          85.941692\n",
      "Name: cost, dtype: float64\n"
     ]
    }
   ],
   "source": [
    "# 30. Is there a relationship between the media_type and the cost associated with it in driving store_sales?\n",
    "media_costs = data.groupby('media_type')['cost'].mean()\n",
    "print(\"Average cost by media type:\", media_costs)"
   ]
  },
  {
   "cell_type": "code",
   "execution_count": 35,
   "id": "39878d9c-0b28-4364-bc45-e1e5e2eea119",
   "metadata": {},
   "outputs": [
    {
     "data": {
      "image/png": "[encoded data removed]",
      "text/plain": [
       "<Figure size 1000x600 with 1 Axes>"
      ]
     },
     "metadata": {},
     "output_type": "display_data"
    }
   ],
   "source": [
    "import matplotlib.pyplot as plt\n",
    "import seaborn as sns\n",
    "from scipy.stats import ttest_ind\n",
    "plt.figure(figsize=(10, 6))\n",
    "sns.barplot(x='store_city', y='store_sales(in millions)', data=data)\n",
    "plt.xticks(rotation=90)\n",
    "plt.title('Store Sales Variation Across Cities')\n",
    "plt.show()"
   ]
  },
  {
   "cell_type": "code",
   "execution_count": 36,
   "id": "404d755f-5d33-406a-a142-c0840ef33b6b",
   "metadata": {},
   "outputs": [
    {
     "name": "stdout",
     "output_type": "stream",
     "text": [
      "Average store sales by grocery section size: grocery_sqft_bins\n",
      "(13287.954, 18987.0]    6.507049\n",
      "(18987.0, 24669.0]      6.573298\n",
      "(24669.0, 30351.0]      6.619209\n",
      "Name: store_sales(in millions), dtype: float64\n"
     ]
    }
   ],
   "source": [
    "# 31. What is the average store_sales for different levels of grocery_sqft (grocery section size)?\n",
    "data['grocery_sqft_bins'] = pd.cut(data['grocery_sqft'], bins=3)\n",
    "average_sales_by_grocery_sqft = data.groupby('grocery_sqft_bins', observed=True)['store_sales(in millions)'].mean()\n",
    "print(\"Average store sales by grocery section size:\", average_sales_by_grocery_sqft)"
   ]
  },
  {
   "cell_type": "code",
   "execution_count": 37,
   "id": "aadbb7a5-44e7-4dbb-ba9c-daf891b9e574",
   "metadata": {},
   "outputs": [
    {
     "name": "stdout",
     "output_type": "stream",
     "text": [
      "Correlation between net weight and store sales: 0.03201370972134972\n"
     ]
    }
   ],
   "source": [
    "# 32. How does the net_weight of products relate to the store_sales?\n",
    "correlation_net_weight_sales = data['net_weight'].corr(data['store_sales(in millions)'])\n",
    "print(\"Correlation between net weight and store sales:\", correlation_net_weight_sales)"
   ]
  },
  {
   "cell_type": "code",
   "execution_count": 38,
   "id": "847d9ca4-d132-4be7-88b2-2a0af0411689",
   "metadata": {},
   "outputs": [
    {
     "name": "stdout",
     "output_type": "stream",
     "text": [
      "Store sales by marital status and gender combined: marital_gender\n",
      "M_F    6.553279\n",
      "M_M    6.582516\n",
      "S_F    6.527400\n",
      "S_M    6.502814\n",
      "Name: store_sales(in millions), dtype: float64\n"
     ]
    }
   ],
   "source": [
    "# 33. Is there a difference in store_sales based on the marital_status and gender combined?\n",
    "data['marital_gender'] = data['marital_status'] + \"_\" + data['gender']\n",
    "sales_by_marital_gender = data.groupby('marital_gender')['store_sales(in millions)'].mean()\n",
    "print(\"Store sales by marital status and gender combined:\", sales_by_marital_gender)"
   ]
  },
  {
   "cell_type": "code",
   "execution_count": 39,
   "id": "dcd5108e-e7ba-4f75-be05-b2e7050d65b7",
   "metadata": {},
   "outputs": [
    {
     "name": "stdout",
     "output_type": "stream",
     "text": [
      "Correlation between store sales and cars at home by education level: education\n",
      "Bachelors Degree       0.000515\n",
      "Graduate Degree       -0.018896\n",
      "High School Degree     0.005744\n",
      "Partial College        0.020564\n",
      "Partial High School    0.007133\n",
      "Name: store_sales(in millions), dtype: float64\n"
     ]
    }
   ],
   "source": [
    "# 34. What is the correlation between store_sales and the average_cars_at_home considering different education levels?\n",
    "correlation_cars_sales_education = data.groupby('education')['store_sales(in millions)'].corr(data['avg_cars_at home(approx)'])\n",
    "print(\"Correlation between store sales and cars at home by education level:\", correlation_cars_sales_education)"
   ]
  },
  {
   "cell_type": "code",
   "execution_count": 40,
   "id": "f514ae2a-d32e-4ebf-8327-b3eddaf90820",
   "metadata": {},
   "outputs": [
    {
     "name": "stdout",
     "output_type": "stream",
     "text": [
      "Store sales by occupation type: occupation\n",
      "Clerical          6.503921\n",
      "Management        6.553095\n",
      "Manual            6.512374\n",
      "Professional      6.515560\n",
      "Skilled Manual    6.594830\n",
      "Name: store_sales(in millions), dtype: float64\n"
     ]
    }
   ],
   "source": [
    "# 35. How does the distribution of store_sales change over different occupation types?\n",
    "sales_by_occupation = data.groupby('occupation')['store_sales(in millions)'].mean()\n",
    "print(\"Store sales by occupation type:\", sales_by_occupation)"
   ]
  },
  {
   "cell_type": "code",
   "execution_count": 41,
   "id": "d53c0ce7-84d5-49ec-a800-979b96c06951",
   "metadata": {},
   "outputs": [
    {
     "name": "stdout",
     "output_type": "stream",
     "text": [
      "Store sales by SRP range: SRP_range\n",
      "Low    6.541031\n",
      "Name: store_sales(in millions), dtype: float64\n"
     ]
    }
   ],
   "source": [
    "36. Is there a significant difference in store_sales between different SRP ranges (e.g., low, medium, high)?\n",
    "data['SRP_range'] = pd.cut(data['SRP'], bins=[0, 10, 20, float('inf')], labels=['Low', 'Medium', 'High'])\n",
    "sales_by_SRP_range = data.groupby('SRP_range', observed=True)['store_sales(in millions)'].mean()\n",
    "print(\"Store sales by SRP range:\", sales_by_SRP_range)"
   ]
  },
  {
   "cell_type": "code",
   "execution_count": 42,
   "id": "73967382-7a05-4ced-91fb-3de3b30981e4",
   "metadata": {},
   "outputs": [
    {
     "name": "stdout",
     "output_type": "stream",
     "text": [
      "Impact of promotional names on unit sales for different brands: promotion_name  brand_name\n",
      "Bag Stuffers    ADJ           3.000000\n",
      "                Akron         2.666667\n",
      "                American      2.000000\n",
      "                Amigo         2.500000\n",
      "                Applause      3.000000\n",
      "                                ...   \n",
      "You Save Days   Toucan        4.000000\n",
      "                Tri-State     3.057143\n",
      "                Urban         2.500000\n",
      "                Walrus        3.000000\n",
      "                Washington    3.444444\n",
      "Name: unit_sales(in millions), Length: 4985, dtype: float64\n"
     ]
    }
   ],
   "source": [
    "# 37. What is the impact of promotional names on unit_sales for different brands?\n",
    "unit_sales_by_promo_brand = data.groupby(['promotion_name', 'brand_name'])['unit_sales(in millions)'].mean()\n",
    "print(\"Impact of promotional names on unit sales for different brands:\", unit_sales_by_promo_brand)"
   ]
  },
  {
   "cell_type": "code",
   "execution_count": 43,
   "id": "7fb8cf1a-379d-4491-9f51-e97e6e9f87b8",
   "metadata": {},
   "outputs": [
    {
     "name": "stdout",
     "output_type": "stream",
     "text": [
      "Store sales by number of prepared food sections: prepared_food\n",
      "0.0    6.410892\n",
      "1.0    6.632233\n",
      "Name: store_sales(in millions), dtype: float64\n"
     ]
    }
   ],
   "source": [
    "# 38. How do store_sales vary with the number of prepared_food sections in a store?\n",
    "sales_by_prepared_food_sections = data.groupby('prepared_food')['store_sales(in millions)'].mean()\n",
    "print(\"Store sales by number of prepared food sections:\", sales_by_prepared_food_sections)"
   ]
  },
  {
   "cell_type": "code",
   "execution_count": 44,
   "id": "5d7102b4-9fcd-44ef-9294-a60a90d81ac0",
   "metadata": {},
   "outputs": [
    {
     "name": "stdout",
     "output_type": "stream",
     "text": [
      "Correlation between store sales and media type presence: media_type\n",
      "Bulk Mail                  1.0\n",
      "Cash Register Handout      1.0\n",
      "Daily Paper                1.0\n",
      "Daily Paper, Radio         1.0\n",
      "Daily Paper, Radio, TV     1.0\n",
      "In-Store Coupon            1.0\n",
      "Product Attachment         1.0\n",
      "Radio                      1.0\n",
      "Street Handout             1.0\n",
      "Sunday Paper               1.0\n",
      "Sunday Paper, Radio        1.0\n",
      "Sunday Paper, Radio, TV    1.0\n",
      "TV                         1.0\n",
      "Name: store_sales(in millions), dtype: float64\n"
     ]
    }
   ],
   "source": [
    "# 39. Is there a correlation between store_sales and the presence of a media_type such as Daily Paper or Radio?\n",
    "media_sales_correlation = data.groupby('media_type')['store_sales(in millions)'].corr(data['store_sales(in millions)'])\n",
    "print(\"Correlation between store sales and media type presence:\", media_sales_correlation)"
   ]
  },
  {
   "cell_type": "code",
   "execution_count": 45,
   "id": "50944869-5fdd-4f87-b25d-fe09cf39b09c",
   "metadata": {},
   "outputs": [
    {
     "name": "stdout",
     "output_type": "stream",
     "text": [
      "Relationship between store sales and average yearly income by member card status: member_card\n",
      "Bronze    0.004457\n",
      "Golden    0.003246\n",
      "Normal    0.005228\n",
      "Silver    0.001072\n",
      "Name: store_sales(in millions), dtype: float64\n"
     ]
    }
   ],
   "source": [
    "# 40. What is the relationship between store_sales and the average yearly income, considering different member_card statuses?\n",
    "sales_income_correlation_by_card = data.groupby('member_card')['store_sales(in millions)'].corr(data['avg. yearly_income'])\n",
    "print(\"Relationship between store sales and average yearly income by member card status:\", sales_income_correlation_by_card)"
   ]
  },
  {
   "cell_type": "code",
   "execution_count": 46,
   "id": "e50f26fb-1726-49e4-8850-9ab0a08d5d40",
   "metadata": {},
   "outputs": [
    {
     "data": {
      "image/png": "[encoded data removed]",
      "text/plain": [
       "<Figure size 640x480 with 1 Axes>"
      ]
     },
     "metadata": {},
     "output_type": "display_data"
    }
   ],
   "source": [
    "# 41. Can you identify any seasonality or trends in store_sales over time, and how can they be explained?\n",
    "data['Time'] = range(len(data))\n",
    "data.plot(x='Time', y='store_sales(in millions)')\n",
    "plt.title('Linear Trend of Store Sales')\n",
    "plt.show()"
   ]
  },
  {
   "cell_type": "code",
   "execution_count": 47,
   "id": "3c931de3-694d-4519-9cdc-0ce26b9c0cbb",
   "metadata": {},
   "outputs": [],
   "source": [
    "import numpy as np\n",
    "from sklearn.model_selection import train_test_split\n",
    "from sklearn.linear_model import LinearRegression\n",
    "from sklearn.cluster import KMeans"
   ]
  },
  {
   "cell_type": "code",
   "execution_count": 48,
   "id": "3e89ac27-5b7f-4ad7-bc2b-2fbafa477e1a",
   "metadata": {},
   "outputs": [
    {
     "name": "stdout",
     "output_type": "stream",
     "text": [
      "Predicted Store Sales: \n",
      "[7.18070162 8.85871515 6.31585773 2.98942702 3.86723633]\n"
     ]
    }
   ],
   "source": [
    "# 42. Using machine learning models, can you predict future store_sales based on the available features?\n",
    "X = data.select_dtypes(include=[np.number]).drop(columns=['store_sales(in millions)'])\n",
    "y = data['store_sales(in millions)']\n",
    "X_train, X_test, y_train, y_test = train_test_split(X, y, test_size=0.2, random_state=42)\n",
    "\n",
    "model = LinearRegression()\n",
    "model.fit(X_train, y_train)\n",
    "predictions = model.predict(X_test)\n",
    "print(f\"Predicted Store Sales: \\n{predictions[:5]}\") "
   ]
  },
  {
   "cell_type": "code",
   "execution_count": 49,
   "id": "9b5e948b-29c3-4ddc-8d66-ea60e8002877",
   "metadata": {},
   "outputs": [
    {
     "name": "stdout",
     "output_type": "stream",
     "text": [
      "Promotion Sales Summary: \n",
      "                             mean       std  count   min    max\n",
      "promotion_name                                                 \n",
      "Bag Stuffers             6.503114  3.415519   1066  0.75  19.70\n",
      "Best Savings             6.284078  3.502519    868  0.63  19.20\n",
      "Big Promo                6.402440  3.256733   1172  0.91  19.90\n",
      "Big Time Discounts       6.625601  3.405357   1480  1.00  19.35\n",
      "Big Time Savings         6.705221  3.549819    745  0.73  18.90\n",
      "Bye Bye Baby             6.355389  3.496371    874  0.96  22.92\n",
      "Cash Register Lottery    6.316212  3.127017   1555  1.00  16.40\n",
      "Coupon Spectacular       5.847214  3.377732    402  0.52  15.36\n",
      "Dimes Off                6.506843  3.466766   1150  0.63  19.15\n",
      "Dollar Cutters           6.394133  3.597294   1326  0.51  19.80\n",
      "Dollar Days              6.505959  3.530909    532  1.02  19.10\n",
      "Double Down Sale         6.520228  3.490776   1755  0.58  19.70\n",
      "Double Your Savings      6.542975  3.483825    242  1.14  19.25\n",
      "Fantastic Discounts      5.473762  3.475150    210  0.57  15.56\n",
      "Free For All             6.510457  3.513195   1621  0.93  19.75\n",
      "Go For It                6.656371  3.422349   1521  0.63  19.75\n",
      "Green Light Days         6.568455  3.428748   1702  1.00  19.75\n",
      "Green Light Special      6.478478  3.594180    427  0.71  19.90\n",
      "High Roller Savings      6.633084  3.413607   1741  1.00  18.90\n",
      "I Cant Believe It Sale   6.495504  3.491354    972  0.65  19.50\n",
      "Money Savers             6.736938  3.600701   1489  1.04  19.75\n",
      "Mystery Sale             6.538669  3.396600    511  0.61  19.75\n",
      "One Day Sale             6.325974  3.429501   1843  0.58  19.90\n",
      "Pick Your Savings        6.548904  3.412796    876  0.53  16.92\n",
      "Price Cutters            6.415678  3.373728   1099  0.56  18.50\n",
      "Price Destroyers         6.621936  3.448783   1374  1.02  19.75\n",
      "Price Savers             6.709351  3.393340   2279  1.02  19.75\n",
      "Price Slashers           6.769982  3.447606   1647  1.00  19.75\n",
      "Price Smashers           6.674521  3.529794    449  0.72  19.75\n",
      "Price Winners            6.606162  3.431256   2108  0.51  19.85\n",
      "Sale Winners             6.310692  3.517771    910  0.54  19.75\n",
      "Sales Days               6.708004  3.583308   1107  1.02  19.50\n",
      "Sales Galore             6.469134  3.560414   1212  0.55  19.80\n",
      "Save-It Sale             6.610205  3.442581   2001  0.86  19.75\n",
      "Saving Days              6.590436  3.558566   1353  0.87  19.60\n",
      "Savings Galore           6.244424  3.420817   1067  0.52  18.40\n",
      "Shelf Clearing Days      6.742562  3.525615   1690  1.04  19.55\n",
      "Shelf Emptiers           6.542728  3.404493    799  1.02  19.75\n",
      "Super Duper Savers       6.465846  3.404045   1986  0.65  19.05\n",
      "Super Savers             6.662295  3.531262   1930  0.62  19.05\n",
      "Super Wallet Savers      6.654987  3.552127    389  1.14  19.75\n",
      "Three for One            6.532169  3.490236   1042  0.92  19.90\n",
      "Tip Top Savings          6.498712  3.439283    862  1.06  19.35\n",
      "Two Day Sale             6.549642  3.463261   2321  0.55  19.90\n",
      "Two for One              6.561132  3.471546   1493  0.70  19.45\n",
      "Unbeatable Price Savers  6.502966  3.515654   1217  0.73  19.85\n",
      "Wallet Savers            6.754638  3.505291    608  0.64  17.60\n",
      "Weekend Markdown         6.600348  3.471926   2330  0.52  19.70\n",
      "You Save Days            6.460977  3.537157   1075  0.57  19.45\n"
     ]
    }
   ],
   "source": [
    "# 43. Are there any significant interactions or synergies between different promotions that impact store_sales?\n",
    "promotion_sales_summary = data.groupby('promotion_name')['store_sales(in millions)'].agg(['mean', 'std', 'count', 'min', 'max'])\n",
    "print(f\"Promotion Sales Summary: \\n{promotion_sales_summary}\")"
   ]
  },
  {
   "cell_type": "code",
   "execution_count": 50,
   "id": "3b782790-8555-411e-b6d2-75182cc376db",
   "metadata": {},
   "outputs": [
    {
     "name": "stdout",
     "output_type": "stream",
     "text": [
      "Outliers in Store Sales: \n",
      "             food_category food_department     food_family  \\\n",
      "72         Breakfast Foods    Frozen Foods            Food   \n",
      "102        Breakfast Foods    Frozen Foods            Food   \n",
      "138        Breakfast Foods    Frozen Foods            Food   \n",
      "171        Breakfast Foods    Frozen Foods            Food   \n",
      "371                  Bread     Baked Goods            Food   \n",
      "...                    ...             ...             ...   \n",
      "58777  Packaged Vegetables         Produce            Food   \n",
      "58821  Packaged Vegetables         Produce            Food   \n",
      "59364            Magazines     Periodicals  Non-Consumable   \n",
      "59915            Magazines     Periodicals  Non-Consumable   \n",
      "59952            Magazines     Periodicals  Non-Consumable   \n",
      "\n",
      "       store_sales(in millions)  store_cost(in millions)  \\\n",
      "72                        16.20                    5.346   \n",
      "102                       16.20                    6.156   \n",
      "138                       16.20                    5.508   \n",
      "171                       16.20                    5.508   \n",
      "371                       19.65                    6.288   \n",
      "...                         ...                      ...   \n",
      "58777                     16.80                    5.712   \n",
      "58821                     16.80                    8.232   \n",
      "59364                     16.00                    6.080   \n",
      "59915                     18.10                    6.697   \n",
      "59952                     18.10                    6.697   \n",
      "\n",
      "       unit_sales(in millions)       promotion_name sales_country  \\\n",
      "72                         5.0          Two for One           USA   \n",
      "102                        5.0     Weekend Markdown           USA   \n",
      "138                        5.0          Two for One        Mexico   \n",
      "171                        5.0       Price Slashers        Canada   \n",
      "371                        5.0       Dollar Cutters           USA   \n",
      "...                        ...                  ...           ...   \n",
      "58777                      5.0     Double Down Sale           USA   \n",
      "58821                      5.0         Two Day Sale           USA   \n",
      "59364                      5.0  Super Wallet Savers           USA   \n",
      "59915                      5.0         Super Savers           USA   \n",
      "59952                      5.0         Money Savers        Mexico   \n",
      "\n",
      "      marital_status gender  ...  video_store salad_bar prepared_food florist  \\\n",
      "72                 S      F  ...          0.0       0.0           0.0     0.0   \n",
      "102                S      M  ...          0.0       0.0           0.0     0.0   \n",
      "138                M      M  ...          0.0       0.0           0.0     0.0   \n",
      "171                S      M  ...          1.0       1.0           1.0     1.0   \n",
      "371                M      M  ...          0.0       0.0           0.0     0.0   \n",
      "...              ...    ...  ...          ...       ...           ...     ...   \n",
      "58777              M      F  ...          0.0       0.0           0.0     0.0   \n",
      "58821              S      F  ...          1.0       1.0           1.0     1.0   \n",
      "59364              S      F  ...          0.0       0.0           0.0     0.0   \n",
      "59915              M      F  ...          0.0       0.0           0.0     0.0   \n",
      "59952              M      F  ...          0.0       1.0           1.0     0.0   \n",
      "\n",
      "                    media_type    cost     grocery_sqft_bins  marital_gender  \\\n",
      "72      Daily Paper, Radio, TV   57.52    (18987.0, 24669.0]             S_F   \n",
      "102                Daily Paper  140.57  (13287.954, 18987.0]             S_M   \n",
      "138      Cash Register Handout  123.63    (24669.0, 30351.0]             M_M   \n",
      "171    Sunday Paper, Radio, TV   77.24  (13287.954, 18987.0]             S_M   \n",
      "371     Daily Paper, Radio, TV  144.18  (13287.954, 18987.0]             M_M   \n",
      "...                        ...     ...                   ...             ...   \n",
      "58777           Street Handout   59.19  (13287.954, 18987.0]             M_F   \n",
      "58821       Daily Paper, Radio  112.52  (13287.954, 18987.0]             S_F   \n",
      "59364    Cash Register Handout  140.19  (13287.954, 18987.0]             S_F   \n",
      "59915      Sunday Paper, Radio   64.99    (18987.0, 24669.0]             M_F   \n",
      "59952   Daily Paper, Radio, TV   55.45    (24669.0, 30351.0]             M_F   \n",
      "\n",
      "       SRP_range   Time  \n",
      "72           Low     72  \n",
      "102          Low    102  \n",
      "138          Low    138  \n",
      "171          Low    171  \n",
      "371          Low    371  \n",
      "...          ...    ...  \n",
      "58777        Low  58777  \n",
      "58821        Low  58821  \n",
      "59364        Low  59364  \n",
      "59915        Low  59915  \n",
      "59952        Low  59952  \n",
      "\n",
      "[325 rows x 44 columns]\n"
     ]
    }
   ],
   "source": [
    "# 44. Can you identify any outliers or anomalies in store_sales, and what factors contribute to them?\n",
    "q1 = data['store_sales(in millions)'].quantile(0.25)\n",
    "q3 = data['store_sales(in millions)'].quantile(0.75)\n",
    "iqr = q3 - q1\n",
    "outliers = data[(data['store_sales(in millions)'] < (q1 - 1.5 * iqr)) | (data['store_sales(in millions)'] > (q3 + 1.5 * iqr))]\n",
    "print(f\"Outliers in Store Sales: \\n{outliers}\")"
   ]
  },
  {
   "cell_type": "code",
   "execution_count": 51,
   "id": "c6ba4add-7835-4cd0-a032-7432b93ff85b",
   "metadata": {},
   "outputs": [
    {
     "name": "stdout",
     "output_type": "stream",
     "text": [
      "Income and Store Sales Correlation: \n",
      "                          avg. yearly_income  store_sales(in millions)\n",
      "avg. yearly_income                  1.000000                  0.004183\n",
      "store_sales(in millions)            0.004183                  1.000000\n"
     ]
    }
   ],
   "source": [
    "external_influence = data[['avg. yearly_income', 'store_sales(in millions)']].corr()\n",
    "print(f\"Income and Store Sales Correlation: \\n{external_influence}\")"
   ]
  },
  {
   "cell_type": "code",
   "execution_count": 52,
   "id": "eb20387a-6e23-45f6-824b-f030ca220dc3",
   "metadata": {},
   "outputs": [
    {
     "name": "stdout",
     "output_type": "stream",
     "text": [
      "Geographical Patterns in Store Sales: \n",
      "store_city\n",
      "Acapulco         6.671707\n",
      "Bellingham       3.468762\n",
      "Beverly Hills    6.621443\n",
      "Bremerton        6.682150\n",
      "Camacho          6.585540\n",
      "Guadalajara      3.168428\n",
      "Hidalgo          6.661336\n",
      "Los Angeles      6.672442\n",
      "Merida           6.740442\n",
      "Mexico City      6.671749\n",
      "Orizaba          6.599451\n",
      "Portland         6.733128\n",
      "Salem            6.528753\n",
      "San Francisco    3.367471\n",
      "Seattle          6.639935\n",
      "Spokane          6.620954\n",
      "Tacoma           6.642020\n",
      "Vancouver        6.627364\n",
      "Victoria         6.638069\n",
      "Name: store_sales(in millions), dtype: float64\n"
     ]
    }
   ],
   "source": [
    "# 46. Are there any geographical patterns in customer preferences or store_sales, and how can they be leveraged?\n",
    "geographical_patterns = data.groupby('store_city')['store_sales(in millions)'].mean()\n",
    "print(f\"Geographical Patterns in Store Sales: \\n{geographical_patterns}\")"
   ]
  },
  {
   "cell_type": "code",
   "execution_count": 53,
   "id": "9432675a-a68e-4b11-bf70-3e4560a47457",
   "metadata": {},
   "outputs": [
    {
     "name": "stdout",
     "output_type": "stream",
     "text": [
      "Counts of data points in each cluster:\n",
      "cluster\n",
      "0    25865\n",
      "2    25826\n",
      "1     8737\n",
      "Name: count, dtype: int64\n",
      "Cluster centroids:\n",
      "         store_sales(in millions)  store_cost(in millions)  \\\n",
      "cluster                                                      \n",
      "0                        6.512452                 2.607941   \n",
      "1                        6.568976                 2.624751   \n",
      "2                        6.560199                 2.629206   \n",
      "\n",
      "         unit_sales(in millions)  total_children  avg_cars_at home(approx)  \\\n",
      "cluster                                                                      \n",
      "0                       3.088885        2.532844                  2.152097   \n",
      "1                       3.113311        2.538171                  2.529015   \n",
      "2                       3.090645        2.533455                  2.137303   \n",
      "\n",
      "         avg. yearly_income  num_children_at_home  avg_cars_at_home_1  \\\n",
      "cluster                                                                 \n",
      "0               3477.823700              0.823468            2.152097   \n",
      "1             111672.115142              0.906375            2.529015   \n",
      "2               3476.155038              0.809185            2.137303   \n",
      "\n",
      "              SRP  gross_weight  ...  frozen_sqft    meat_sqft  coffee_bar  \\\n",
      "cluster                          ...                                         \n",
      "0        2.109365     13.641095  ...  5307.221883  3538.092442    0.612681   \n",
      "1        2.112240     13.800207  ...  5350.818817  3567.146961    0.624013   \n",
      "2        2.122182     13.974128  ...  5305.647642  3537.046504    0.608766   \n",
      "\n",
      "         video_store  salad_bar  prepared_food   florist       cost  \\\n",
      "cluster                                                               \n",
      "0           0.351904   0.590102       0.590102  0.558631  99.384221   \n",
      "1           0.378963   0.592423       0.592423  0.595513  98.908491   \n",
      "2           0.348021   0.584295       0.584295  0.555448  99.260044   \n",
      "\n",
      "                 Time  cluster  \n",
      "cluster                         \n",
      "0        45246.405606      0.0  \n",
      "1        30477.476823      1.0  \n",
      "2        15068.589096      2.0  \n",
      "\n",
      "[3 rows x 26 columns]\n"
     ]
    }
   ],
   "source": [
    "import pandas as pd\n",
    "from sklearn.cluster import KMeans\n",
    "import matplotlib.pyplot as plt\n",
    "\n",
    "X_cluster = data.select_dtypes(include=[np.number])\n",
    "\n",
    "kmeans = KMeans(n_clusters=3, n_init=10, random_state=42)\n",
    "data['cluster'] = kmeans.fit_predict(X_cluster)\n",
    "\n",
    "cluster_counts = data['cluster'].value_counts()\n",
    "print(f\"Counts of data points in each cluster:\\n{cluster_counts}\")\n",
    "\n",
    "numeric_cols = data.select_dtypes(include=[np.number]).columns\n",
    "cluster_summary = data.groupby('cluster')[numeric_cols].mean()\n",
    "print(f\"Cluster centroids:\\n{cluster_summary}\")\n",
    "\n",
    "if 'some_numeric_column1' in data.columns and 'some_numeric_column2' in data.columns:\n",
    "    plt.figure(figsize=(10, 6))\n",
    "    plt.scatter(data['some_numeric_column1'], data['some_numeric_column2'], c=data['cluster'], cmap='viridis', alpha=0.5)\n",
    "    plt.title('Cluster Distribution on Selected Numeric Features')\n",
    "    plt.xlabel('Numeric Feature 1')\n",
    "    plt.ylabel('Numeric Feature 2')\n",
    "    plt.colorbar(label='Cluster')\n",
    "    plt.show()\n"
   ]
  },
  {
   "cell_type": "code",
   "execution_count": 54,
   "id": "93a3d00b-c5aa-48b4-9886-6aa9ce06d2af",
   "metadata": {},
   "outputs": [
    {
     "name": "stdout",
     "output_type": "stream",
     "text": [
      "\n",
      "Impact of Different Store Types on Store Sales:\n",
      "store_type\n",
      "Deluxe Supermarket     6.635207\n",
      "Gourmet Supermarket    6.608458\n",
      "Mid-Size Grocery       6.663159\n",
      "Small Grocery          3.359524\n",
      "Supermarket            6.663285\n",
      "Name: store_sales(in millions), dtype: float64\n"
     ]
    }
   ],
   "source": [
    "store_sales_by_type = data.groupby('store_type', observed=True)['store_sales(in millions)'].mean()\n",
    "print(\"\\nImpact of Different Store Types on Store Sales:\")\n",
    "print(store_sales_by_type)"
   ]
  },
  {
   "cell_type": "code",
   "execution_count": 55,
   "id": "4125f27f-1eed-4dd5-a1c6-4495b31b6bf6",
   "metadata": {},
   "outputs": [
    {
     "name": "stdout",
     "output_type": "stream",
     "text": [
      "\n",
      "Relationship Between Customer Demographics and Store Sales:\n",
      "marital_status  gender  education          \n",
      "M               F       Bachelors Degree       6.539885\n",
      "                        Graduate Degree        6.119084\n",
      "                        High School Degree     6.638999\n",
      "                        Partial College        6.472411\n",
      "                        Partial High School    6.587596\n",
      "                M       Bachelors Degree       6.550008\n",
      "                        Graduate Degree        6.493664\n",
      "                        High School Degree     6.687118\n",
      "                        Partial College        6.584241\n",
      "                        Partial High School    6.515637\n",
      "S               F       Bachelors Degree       6.496402\n",
      "                        Graduate Degree        6.384983\n",
      "                        High School Degree     6.583395\n",
      "                        Partial College        6.643600\n",
      "                        Partial High School    6.499098\n",
      "                M       Bachelors Degree       6.470000\n",
      "                        Graduate Degree        6.592997\n",
      "                        High School Degree     6.541177\n",
      "                        Partial College        6.265289\n",
      "                        Partial High School    6.552649\n",
      "Name: store_sales(in millions), dtype: float64\n"
     ]
    }
   ],
   "source": [
    "sales_by_demographics = data.groupby(['marital_status', 'gender', 'education'], observed=True)['store_sales(in millions)'].mean()\n",
    "print(\"\\nRelationship Between Customer Demographics and Store Sales:\")\n",
    "print(sales_by_demographics)"
   ]
  },
  {
   "cell_type": "code",
   "execution_count": 56,
   "id": "0f4d68e0-7220-41bd-be34-7f86c19d2feb",
   "metadata": {},
   "outputs": [
    {
     "name": "stdout",
     "output_type": "stream",
     "text": [
      "\n",
      "Effectiveness of Different Promotions on Store Sales:\n",
      "promotion_name\n",
      "Bag Stuffers               6.503114\n",
      "Best Savings               6.284078\n",
      "Big Promo                  6.402440\n",
      "Big Time Discounts         6.625601\n",
      "Big Time Savings           6.705221\n",
      "Bye Bye Baby               6.355389\n",
      "Cash Register Lottery      6.316212\n",
      "Coupon Spectacular         5.847214\n",
      "Dimes Off                  6.506843\n",
      "Dollar Cutters             6.394133\n",
      "Dollar Days                6.505959\n",
      "Double Down Sale           6.520228\n",
      "Double Your Savings        6.542975\n",
      "Fantastic Discounts        5.473762\n",
      "Free For All               6.510457\n",
      "Go For It                  6.656371\n",
      "Green Light Days           6.568455\n",
      "Green Light Special        6.478478\n",
      "High Roller Savings        6.633084\n",
      "I Cant Believe It Sale     6.495504\n",
      "Money Savers               6.736938\n",
      "Mystery Sale               6.538669\n",
      "One Day Sale               6.325974\n",
      "Pick Your Savings          6.548904\n",
      "Price Cutters              6.415678\n",
      "Price Destroyers           6.621936\n",
      "Price Savers               6.709351\n",
      "Price Slashers             6.769982\n",
      "Price Smashers             6.674521\n",
      "Price Winners              6.606162\n",
      "Sale Winners               6.310692\n",
      "Sales Days                 6.708004\n",
      "Sales Galore               6.469134\n",
      "Save-It Sale               6.610205\n",
      "Saving Days                6.590436\n",
      "Savings Galore             6.244424\n",
      "Shelf Clearing Days        6.742562\n",
      "Shelf Emptiers             6.542728\n",
      "Super Duper Savers         6.465846\n",
      "Super Savers               6.662295\n",
      "Super Wallet Savers        6.654987\n",
      "Three for One              6.532169\n",
      "Tip Top Savings            6.498712\n",
      "Two Day Sale               6.549642\n",
      "Two for One                6.561132\n",
      "Unbeatable Price Savers    6.502966\n",
      "Wallet Savers              6.754638\n",
      "Weekend Markdown           6.600348\n",
      "You Save Days              6.460977\n",
      "Name: store_sales(in millions), dtype: float64\n"
     ]
    }
   ],
   "source": [
    "promotion_effectiveness = data.groupby('promotion_name', observed=True)['store_sales(in millions)'].mean()\n",
    "print(\"\\nEffectiveness of Different Promotions on Store Sales:\")\n",
    "print(promotion_effectiveness)"
   ]
  },
  {
   "cell_type": "code",
   "execution_count": 57,
   "id": "51eca6f9-befa-4fa2-9104-f2c49139ff37",
   "metadata": {},
   "outputs": [
    {
     "name": "stdout",
     "output_type": "stream",
     "text": [
      "\n",
      "Impact of Promotions on Different Store Types:\n",
      "promotion_name    store_type         \n",
      "Bag Stuffers      Deluxe Supermarket     6.670436\n",
      "                  Small Grocery          3.541228\n",
      "Best Savings      Deluxe Supermarket     6.876615\n",
      "                  Gourmet Supermarket    6.364425\n",
      "                  Small Grocery          3.100000\n",
      "                                           ...   \n",
      "Weekend Markdown  Small Grocery          3.581818\n",
      "                  Supermarket            6.636796\n",
      "You Save Days     Gourmet Supermarket    6.738508\n",
      "                  Small Grocery          2.941356\n",
      "                  Supermarket            6.641745\n",
      "Name: store_sales(in millions), Length: 173, dtype: float64\n"
     ]
    }
   ],
   "source": [
    "promotion_effectiveness_by_store_type = data.groupby(['promotion_name', 'store_type'], observed=True)['store_sales(in millions)'].mean()\n",
    "print(\"\\nImpact of Promotions on Different Store Types:\")\n",
    "print(promotion_effectiveness_by_store_type)"
   ]
  },
  {
   "cell_type": "code",
   "execution_count": 58,
   "id": "28dc2524-c975-434d-876f-3b9475f71431",
   "metadata": {},
   "outputs": [
    {
     "name": "stdout",
     "output_type": "stream",
     "text": [
      "                         mean        sum\n",
      "store_type                              \n",
      "Deluxe Supermarket   6.635207  152304.54\n",
      "Gourmet Supermarket  6.608458   42974.80\n",
      "Mid-Size Grocery     6.663159   18963.35\n",
      "Small Grocery        3.359524    6493.96\n",
      "Supermarket          6.663285  174524.75\n"
     ]
    },
    {
     "data": {
      "image/png": "[encoded data removed]",
      "text/plain": [
       "<Figure size 640x480 with 1 Axes>"
      ]
     },
     "metadata": {},
     "output_type": "display_data"
    }
   ],
   "source": [
    "store_type_performance = data.groupby('store_type')['store_sales(in millions)'].agg(['mean', 'sum'])\n",
    "print(store_type_performance)\n",
    "\n",
    "store_type_performance['mean'].plot(kind='bar', color='skyblue')\n",
    "plt.title('Average Store Sales by Store Type')\n",
    "plt.xlabel('Store Type')\n",
    "plt.ylabel('Average Sales (in millions)')\n",
    "plt.show()\n"
   ]
  }
 ],
 "metadata": {
  "kernelspec": {
   "display_name": "Python 3 (ipykernel)",
   "language": "python",
   "name": "python3"
  },
  "language_info": {
   "codemirror_mode": {
    "name": "ipython",
    "version": 3
   },
   "file_extension": ".py",
   "mimetype": "text/x-python",
   "name": "python",
   "nbconvert_exporter": "python",
   "pygments_lexer": "ipython3",
   "version": "3.11.7"
  }
 },
 "nbformat": 4,
 "nbformat_minor": 5
}
